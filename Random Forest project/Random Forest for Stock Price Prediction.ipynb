{
 "cells": [
  {
   "cell_type": "markdown",
   "metadata": {},
   "source": [
    "# Random Forest for Stock Price Prediction\n",
    "\n",
    "In this project I will use a random forest model to predict stock pricing. The goal is to determine whether an increase in the price of a certain stock is expected in order to buy it at a favorable time.\n",
    "\n",
    "The method I will follow within the following notebook involves a series of steps to acquire and clean the data and implement an optimized model. In detail I will perform the following steps:\n",
    "- dawnload the price history of a given stock from Yahoo Finance;\n",
    "- data exploration and cleaning;\n",
    "- dataset setup;\n",
    "- model implementation and testing;\n",
    "- setup of a backtesting engine;\n",
    "- optimization of model accuracy.\n",
    "\n",
    "## Data Import, Analysis and Viasualization\n",
    "\n",
    "Data will be saved in a dedicated json file so that it does not have to be re-downloaded each time. The file will be created if it does not exist yet."
   ]
  },
  {
   "cell_type": "code",
   "execution_count": 1,
   "metadata": {},
   "outputs": [],
   "source": [
    "import matplotlib.pyplot as plt\n",
    "import pandas as pd\n",
    "import yfinance as yf\n",
    "import json\n",
    "import os\n",
    "import sys\n",
    "sys.stderr = open(os.devnull, \"w\")  # silence stderr"
   ]
  },
  {
   "cell_type": "code",
   "execution_count": 2,
   "metadata": {},
   "outputs": [],
   "source": [
    "file_path = \"financial_data.json\"\n",
    "\n",
    "if os.path.exists(file_path):\n",
    "    with open(file_path) as f:\n",
    "        price_df = pd.read_json(file_path)\n",
    "else:\n",
    "    # here the name of the stock of interest is specified\n",
    "    price = yf.Ticker(\"GOOGL\")\n",
    "    price_df = price.history(period=\"max\")\n",
    "    price_df.to_json(file_path)"
   ]
  },
  {
   "cell_type": "code",
   "execution_count": 3,
   "metadata": {},
   "outputs": [
    {
     "data": {
      "text/html": [
       "<div>\n",
       "<style scoped>\n",
       "    .dataframe tbody tr th:only-of-type {\n",
       "        vertical-align: middle;\n",
       "    }\n",
       "\n",
       "    .dataframe tbody tr th {\n",
       "        vertical-align: top;\n",
       "    }\n",
       "\n",
       "    .dataframe thead th {\n",
       "        text-align: right;\n",
       "    }\n",
       "</style>\n",
       "<table border=\"1\" class=\"dataframe\">\n",
       "  <thead>\n",
       "    <tr style=\"text-align: right;\">\n",
       "      <th></th>\n",
       "      <th>Open</th>\n",
       "      <th>High</th>\n",
       "      <th>Low</th>\n",
       "      <th>Close</th>\n",
       "      <th>Volume</th>\n",
       "      <th>Dividends</th>\n",
       "      <th>Stock Splits</th>\n",
       "    </tr>\n",
       "  </thead>\n",
       "  <tbody>\n",
       "    <tr>\n",
       "      <th>2004-08-19 04:00:00</th>\n",
       "      <td>2.502503</td>\n",
       "      <td>2.604104</td>\n",
       "      <td>2.401401</td>\n",
       "      <td>2.511011</td>\n",
       "      <td>893181924</td>\n",
       "      <td>0</td>\n",
       "      <td>0.0</td>\n",
       "    </tr>\n",
       "    <tr>\n",
       "      <th>2004-08-20 04:00:00</th>\n",
       "      <td>2.527778</td>\n",
       "      <td>2.729730</td>\n",
       "      <td>2.515015</td>\n",
       "      <td>2.710460</td>\n",
       "      <td>456686856</td>\n",
       "      <td>0</td>\n",
       "      <td>0.0</td>\n",
       "    </tr>\n",
       "    <tr>\n",
       "      <th>2004-08-23 04:00:00</th>\n",
       "      <td>2.771522</td>\n",
       "      <td>2.839840</td>\n",
       "      <td>2.728979</td>\n",
       "      <td>2.737738</td>\n",
       "      <td>365122512</td>\n",
       "      <td>0</td>\n",
       "      <td>0.0</td>\n",
       "    </tr>\n",
       "    <tr>\n",
       "      <th>2004-08-24 04:00:00</th>\n",
       "      <td>2.783784</td>\n",
       "      <td>2.792793</td>\n",
       "      <td>2.591842</td>\n",
       "      <td>2.624374</td>\n",
       "      <td>304946748</td>\n",
       "      <td>0</td>\n",
       "      <td>0.0</td>\n",
       "    </tr>\n",
       "    <tr>\n",
       "      <th>2004-08-25 04:00:00</th>\n",
       "      <td>2.626627</td>\n",
       "      <td>2.702703</td>\n",
       "      <td>2.599600</td>\n",
       "      <td>2.652653</td>\n",
       "      <td>183772044</td>\n",
       "      <td>0</td>\n",
       "      <td>0.0</td>\n",
       "    </tr>\n",
       "  </tbody>\n",
       "</table>\n",
       "</div>"
      ],
      "text/plain": [
       "                         Open      High       Low     Close     Volume  \\\n",
       "2004-08-19 04:00:00  2.502503  2.604104  2.401401  2.511011  893181924   \n",
       "2004-08-20 04:00:00  2.527778  2.729730  2.515015  2.710460  456686856   \n",
       "2004-08-23 04:00:00  2.771522  2.839840  2.728979  2.737738  365122512   \n",
       "2004-08-24 04:00:00  2.783784  2.792793  2.591842  2.624374  304946748   \n",
       "2004-08-25 04:00:00  2.626627  2.702703  2.599600  2.652653  183772044   \n",
       "\n",
       "                     Dividends  Stock Splits  \n",
       "2004-08-19 04:00:00          0           0.0  \n",
       "2004-08-20 04:00:00          0           0.0  \n",
       "2004-08-23 04:00:00          0           0.0  \n",
       "2004-08-24 04:00:00          0           0.0  \n",
       "2004-08-25 04:00:00          0           0.0  "
      ]
     },
     "execution_count": 3,
     "metadata": {},
     "output_type": "execute_result"
    }
   ],
   "source": [
    "price_df.head(5)"
   ]
  },
  {
   "cell_type": "markdown",
   "metadata": {},
   "source": [
    "In the following, the **general information** regarding the dataframe is shown. As you can see, there is no null data. However we notice that stock doesn't trade every day (there is no trading on weekends and holidays), so some dates are missing."
   ]
  },
  {
   "cell_type": "code",
   "execution_count": 4,
   "metadata": {},
   "outputs": [
    {
     "name": "stdout",
     "output_type": "stream",
     "text": [
      "<class 'pandas.core.frame.DataFrame'>\n",
      "DatetimeIndex: 4608 entries, 2004-08-19 04:00:00 to 2022-12-06 05:00:00\n",
      "Data columns (total 7 columns):\n",
      " #   Column        Non-Null Count  Dtype  \n",
      "---  ------        --------------  -----  \n",
      " 0   Open          4608 non-null   float64\n",
      " 1   High          4608 non-null   float64\n",
      " 2   Low           4608 non-null   float64\n",
      " 3   Close         4608 non-null   float64\n",
      " 4   Volume        4608 non-null   int64  \n",
      " 5   Dividends     4608 non-null   int64  \n",
      " 6   Stock Splits  4608 non-null   float64\n",
      "dtypes: float64(5), int64(2)\n",
      "memory usage: 288.0 KB\n"
     ]
    }
   ],
   "source": [
    "price_df.info()"
   ]
  },
  {
   "cell_type": "markdown",
   "metadata": {},
   "source": [
    "Graphs representing data trends are now displayed. Specifically, the closing stock price, daily percentage variation, and trading volume are shown."
   ]
  },
  {
   "cell_type": "code",
   "execution_count": 5,
   "metadata": {},
   "outputs": [
    {
     "data": {
      "image/png": "[encoded data removed]",
      "text/plain": [
       "<Figure size 720x720 with 3 Axes>"
      ]
     },
     "metadata": {
      "needs_background": "light"
     },
     "output_type": "display_data"
    }
   ],
   "source": [
    "price_df[\"Daily Variation\"] = (price_df[\"High\"] - price_df[\"Low\"]) / price_df[\"Close\"]\n",
    "price_df.plot.line(y=[\"Close\", \"Daily Variation\", \"Volume\"], use_index=True, subplots=True, figsize=(10, 10))\n",
    "plt.show()"
   ]
  },
  {
   "cell_type": "markdown",
   "metadata": {},
   "source": [
    "## Data Preprocessing\n",
    "\n",
    "We begin by identifying the target of the predictions for the model to be implemented. The target is to identify whether the price will go up or down the next day based on the current day. If the price went up, the target will be **1**; if it went down, it will be **0**.\n",
    "\n",
    "I add two columns to the original dataframe: one for the target {0, 1}, and one to record the next day's closing price."
   ]
  },
  {
   "cell_type": "code",
   "execution_count": 6,
   "metadata": {},
   "outputs": [
    {
     "data": {
      "text/html": [
       "<div>\n",
       "<style scoped>\n",
       "    .dataframe tbody tr th:only-of-type {\n",
       "        vertical-align: middle;\n",
       "    }\n",
       "\n",
       "    .dataframe tbody tr th {\n",
       "        vertical-align: top;\n",
       "    }\n",
       "\n",
       "    .dataframe thead th {\n",
       "        text-align: right;\n",
       "    }\n",
       "</style>\n",
       "<table border=\"1\" class=\"dataframe\">\n",
       "  <thead>\n",
       "    <tr style=\"text-align: right;\">\n",
       "      <th></th>\n",
       "      <th>Future Close</th>\n",
       "      <th>Target</th>\n",
       "      <th>Close</th>\n",
       "      <th>Volume</th>\n",
       "      <th>Open</th>\n",
       "      <th>High</th>\n",
       "      <th>Low</th>\n",
       "    </tr>\n",
       "  </thead>\n",
       "  <tbody>\n",
       "    <tr>\n",
       "      <th>2004-08-20 04:00:00</th>\n",
       "      <td>2.710460</td>\n",
       "      <td>1.0</td>\n",
       "      <td>2.511011</td>\n",
       "      <td>893181924.0</td>\n",
       "      <td>2.502503</td>\n",
       "      <td>2.604104</td>\n",
       "      <td>2.401401</td>\n",
       "    </tr>\n",
       "    <tr>\n",
       "      <th>2004-08-23 04:00:00</th>\n",
       "      <td>2.737738</td>\n",
       "      <td>1.0</td>\n",
       "      <td>2.710460</td>\n",
       "      <td>456686856.0</td>\n",
       "      <td>2.527778</td>\n",
       "      <td>2.729730</td>\n",
       "      <td>2.515015</td>\n",
       "    </tr>\n",
       "    <tr>\n",
       "      <th>2004-08-24 04:00:00</th>\n",
       "      <td>2.624374</td>\n",
       "      <td>0.0</td>\n",
       "      <td>2.737738</td>\n",
       "      <td>365122512.0</td>\n",
       "      <td>2.771522</td>\n",
       "      <td>2.839840</td>\n",
       "      <td>2.728979</td>\n",
       "    </tr>\n",
       "    <tr>\n",
       "      <th>2004-08-25 04:00:00</th>\n",
       "      <td>2.652653</td>\n",
       "      <td>1.0</td>\n",
       "      <td>2.624374</td>\n",
       "      <td>304946748.0</td>\n",
       "      <td>2.783784</td>\n",
       "      <td>2.792793</td>\n",
       "      <td>2.591842</td>\n",
       "    </tr>\n",
       "    <tr>\n",
       "      <th>2004-08-26 04:00:00</th>\n",
       "      <td>2.700450</td>\n",
       "      <td>1.0</td>\n",
       "      <td>2.652653</td>\n",
       "      <td>183772044.0</td>\n",
       "      <td>2.626627</td>\n",
       "      <td>2.702703</td>\n",
       "      <td>2.599600</td>\n",
       "    </tr>\n",
       "  </tbody>\n",
       "</table>\n",
       "</div>"
      ],
      "text/plain": [
       "                     Future Close  Target     Close       Volume      Open  \\\n",
       "2004-08-20 04:00:00      2.710460     1.0  2.511011  893181924.0  2.502503   \n",
       "2004-08-23 04:00:00      2.737738     1.0  2.710460  456686856.0  2.527778   \n",
       "2004-08-24 04:00:00      2.624374     0.0  2.737738  365122512.0  2.771522   \n",
       "2004-08-25 04:00:00      2.652653     1.0  2.624374  304946748.0  2.783784   \n",
       "2004-08-26 04:00:00      2.700450     1.0  2.652653  183772044.0  2.626627   \n",
       "\n",
       "                         High       Low  \n",
       "2004-08-20 04:00:00  2.604104  2.401401  \n",
       "2004-08-23 04:00:00  2.729730  2.515015  \n",
       "2004-08-24 04:00:00  2.839840  2.728979  \n",
       "2004-08-25 04:00:00  2.792793  2.591842  \n",
       "2004-08-26 04:00:00  2.702703  2.599600  "
      ]
     },
     "execution_count": 6,
     "metadata": {},
     "output_type": "execute_result"
    }
   ],
   "source": [
    "data = price_df[[\"Close\"]]\n",
    "data = data.rename(columns = {'Close':'Future Close'})\n",
    "\n",
    "data[\"Target\"] = price_df.rolling(2).apply(lambda x: x.iloc[1] > x.iloc[0])[\"Close\"]   \n",
    "\n",
    "price_shifted = price_df.copy()\n",
    "price_shifted = price_shifted.shift(1)\n",
    "\n",
    "predictors = [\"Close\", \"Volume\", \"Open\", \"High\", \"Low\"]\n",
    "data = data.join(price_shifted[predictors]).iloc[1:]\n",
    "\n",
    "data.head(5)"
   ]
  },
  {
   "cell_type": "markdown",
   "metadata": {},
   "source": [
    "## Model Design and Training\n",
    "\n",
    "The machine learning model we will use for making price predictions is the random forest classifier. The advantage of using such a model is that it can capture nonlinear relationships in the data.\n",
    "\n",
    "Because the data are temporally ordered, we cannot use cross-validation to check the accuracy of the implemented model.  For this reason, we will split the data sequentially. We will start by predicting only the last 100 rows using the previous ones."
   ]
  },
  {
   "cell_type": "code",
   "execution_count": 7,
   "metadata": {},
   "outputs": [],
   "source": [
    "from sklearn.ensemble import RandomForestClassifier\n",
    "from sklearn.model_selection import RandomizedSearchCV\n",
    "\n",
    "train = data.iloc[:-100]\n",
    "test = data.iloc[-100:]"
   ]
  },
  {
   "cell_type": "code",
   "execution_count": 8,
   "metadata": {},
   "outputs": [],
   "source": [
    "# A random grid is defined in order to seach for the optimal forest with a randomized search\n",
    "random_grid  = {'bootstrap': [True],\n",
    "                'max_depth': [20, 25, 30, 35, 40],\n",
    "                'max_features': ['auto'],\n",
    "                'min_samples_leaf': [1, 2, 4, 6],\n",
    "                'min_samples_split': [25, 50, 75, 100],\n",
    "                'n_estimators': [100, 200, 300, 400]}"
   ]
  },
  {
   "cell_type": "code",
   "execution_count": 9,
   "metadata": {},
   "outputs": [
    {
     "data": {
      "text/plain": [
       "RandomizedSearchCV(cv=4, error_score='raise-deprecating',\n",
       "                   estimator=RandomForestClassifier(bootstrap=True,\n",
       "                                                    class_weight=None,\n",
       "                                                    criterion='gini',\n",
       "                                                    max_depth=None,\n",
       "                                                    max_features='auto',\n",
       "                                                    max_leaf_nodes=None,\n",
       "                                                    min_impurity_decrease=0.0,\n",
       "                                                    min_impurity_split=None,\n",
       "                                                    min_samples_leaf=1,\n",
       "                                                    min_samples_split=2,\n",
       "                                                    min_weight_fraction_leaf=0.0,\n",
       "                                                    n_estimators='warn',\n",
       "                                                    n_jobs=None,\n",
       "                                                    oob_sc...\n",
       "                                                    verbose=0,\n",
       "                                                    warm_start=False),\n",
       "                   iid='warn', n_iter=35, n_jobs=None,\n",
       "                   param_distributions={'bootstrap': [True],\n",
       "                                        'max_depth': [20, 25, 30, 35, 40],\n",
       "                                        'max_features': ['auto'],\n",
       "                                        'min_samples_leaf': [1, 2, 4, 6],\n",
       "                                        'min_samples_split': [25, 50, 75, 100],\n",
       "                                        'n_estimators': [100, 200, 300, 400]},\n",
       "                   pre_dispatch='2*n_jobs', random_state=None, refit=True,\n",
       "                   return_train_score=False, scoring=None, verbose=0)"
      ]
     },
     "execution_count": 9,
     "metadata": {},
     "output_type": "execute_result"
    }
   ],
   "source": [
    "RFC = RandomForestClassifier()\n",
    "RS = RandomizedSearchCV(estimator = RFC, \n",
    "                        param_distributions = random_grid, \n",
    "                        n_iter = 35, \n",
    "                        cv = 4)\n",
    "RS.fit(train[predictors], train[\"Target\"])"
   ]
  },
  {
   "cell_type": "code",
   "execution_count": 10,
   "metadata": {},
   "outputs": [
    {
     "data": {
      "text/plain": [
       "{'n_estimators': 100,\n",
       " 'min_samples_split': 25,\n",
       " 'min_samples_leaf': 6,\n",
       " 'max_features': 'auto',\n",
       " 'max_depth': 20,\n",
       " 'bootstrap': True}"
      ]
     },
     "execution_count": 10,
     "metadata": {},
     "output_type": "execute_result"
    }
   ],
   "source": [
    "RS.best_params_"
   ]
  },
  {
   "cell_type": "markdown",
   "metadata": {},
   "source": [
    "## Testing the Model"
   ]
  },
  {
   "cell_type": "code",
   "execution_count": 11,
   "metadata": {},
   "outputs": [],
   "source": [
    "from sklearn.metrics import precision_score"
   ]
  },
  {
   "cell_type": "code",
   "execution_count": 12,
   "metadata": {},
   "outputs": [
    {
     "data": {
      "text/plain": [
       "0.42857142857142855"
      ]
     },
     "execution_count": 12,
     "metadata": {},
     "output_type": "execute_result"
    }
   ],
   "source": [
    "predictions = RS.predict(test[predictors])\n",
    "predictions = pd.Series(predictions, index=test.index)\n",
    "precision_score(test[\"Target\"], predictions)"
   ]
  },
  {
   "cell_type": "code",
   "execution_count": 13,
   "metadata": {},
   "outputs": [
    {
     "data": {
      "text/plain": [
       "<matplotlib.axes._subplots.AxesSubplot at 0x166fc617088>"
      ]
     },
     "execution_count": 13,
     "metadata": {},
     "output_type": "execute_result"
    },
    {
     "data": {
      "image/png": "[encoded data removed]",
      "text/plain": [
       "<Figure size 432x288 with 1 Axes>"
      ]
     },
     "metadata": {
      "needs_background": "light"
     },
     "output_type": "display_data"
    }
   ],
   "source": [
    "combined = pd.concat({\"Target\": test[\"Target\"],\"Predictions\": predictions}, axis=1)\n",
    "combined.plot()"
   ]
  },
  {
   "cell_type": "markdown",
   "metadata": {},
   "source": [
    "We can see that the model has significantly low accuracy in predicting correct results. One possible explanation is that since it was trained using all of the stock's history, the price rises were overestimated (as can be seen from the graph of closing price trends through 2021 there was a sharp increase). In the historical test period (July - December 2022), on the other hand, the stock experienced a general depreciation.\n",
    "\n",
    "## Backtesting\n",
    "\n",
    "We now want to find a way to make predictions on the entire dataset, not just the last 100 rows. The error estimate will then be more robust. In fact, as discussed above, market conditions over the last 100 days can be atypical.\n",
    "\n",
    "We will therefore need to backtest. This ensures that we only use data prior to the day we are forecasting and not future days.\n",
    "\n",
    "The backtesting method will run a loop on the data set and train a model every 750 rows. As usual we will split the data between training and testing, the model will be trained, predictions will be made on the test data."
   ]
  },
  {
   "cell_type": "code",
   "execution_count": 14,
   "metadata": {},
   "outputs": [],
   "source": [
    "def backtest(data, model, predictors, start=1000, step=750):\n",
    "    predictions = []\n",
    "    # Loop over the dataset in increments\n",
    "    for i in range(start, data.shape[0], step):\n",
    "        # Split into train and test sets\n",
    "        train = data.iloc[0:i].copy()\n",
    "        test = data.iloc[i:(i+step)].copy()\n",
    "        \n",
    "        # Fit the random forest model\n",
    "        model.fit(train[predictors], train[\"Target\"])\n",
    "        \n",
    "        # Make predictions\n",
    "        preds = model.predict_proba(test[predictors])[:,1]\n",
    "        preds = pd.Series(preds, index=test.index)\n",
    "        preds[preds > .6] = 1\n",
    "        preds[preds<=.6] = 0\n",
    "        \n",
    "        # Combine predictions and test values\n",
    "        combined = pd.concat({\"Target\": test[\"Target\"],\"Predictions\": preds}, axis=1)\n",
    "        \n",
    "        predictions.append(combined)\n",
    "    \n",
    "    return pd.concat(predictions)"
   ]
  },
  {
   "cell_type": "code",
   "execution_count": 15,
   "metadata": {},
   "outputs": [
    {
     "data": {
      "text/plain": [
       "0.0    2656\n",
       "1.0     951\n",
       "Name: Predictions, dtype: int64"
      ]
     },
     "execution_count": 15,
     "metadata": {},
     "output_type": "execute_result"
    }
   ],
   "source": [
    "RFC = RandomForestClassifier(n_estimators=200,\n",
    "                             min_samples_split=50,\n",
    "                             min_samples_leaf=4,\n",
    "                             max_features='auto',\n",
    "                             max_depth=30,\n",
    "                             bootstrap=True)\n",
    "predictions = backtest(data, RFC, predictors)\n",
    "predictions[\"Predictions\"].value_counts()"
   ]
  },
  {
   "cell_type": "code",
   "execution_count": 16,
   "metadata": {},
   "outputs": [
    {
     "data": {
      "text/plain": [
       "0.5352260778128286"
      ]
     },
     "execution_count": 16,
     "metadata": {},
     "output_type": "execute_result"
    }
   ],
   "source": [
    "precision_score(predictions[\"Target\"], predictions[\"Predictions\"])"
   ]
  },
  {
   "cell_type": "markdown",
   "metadata": {},
   "source": [
    "Using backtesting seems to have improved accuracy. However, the result is still not satisfying.\n",
    "\n",
    "## Improving accuracy\n",
    "\n",
    "The simplest idea to try to improve the accuracy of the model is to add additional indicators. One of the most commonly used indicators is the **Moving Average Convergence Divergence** (MACD) Indicator and its signal line."
   ]
  },
  {
   "cell_type": "code",
   "execution_count": 17,
   "metadata": {},
   "outputs": [],
   "source": [
    "exp1 = data['Close'].ewm(span=12, adjust=False).mean()\n",
    "exp2 = data['Close'].ewm(span=26, adjust=False).mean()\n",
    "macd = exp1 - exp2\n",
    "exp3 = macd.ewm(span=9, adjust=False).mean()"
   ]
  },
  {
   "cell_type": "code",
   "execution_count": 18,
   "metadata": {},
   "outputs": [],
   "source": [
    "data['MACD'] = macd\n",
    "data['Signal Line'] = exp3\n",
    "full_predictors = predictors + ['MACD', 'Signal Line']"
   ]
  },
  {
   "cell_type": "code",
   "execution_count": 19,
   "metadata": {},
   "outputs": [
    {
     "data": {
      "text/plain": [
       "0.5433604336043361"
      ]
     },
     "execution_count": 19,
     "metadata": {},
     "output_type": "execute_result"
    }
   ],
   "source": [
    "predictions = backtest(data, RFC, full_predictors)\n",
    "precision_score(predictions[\"Target\"], predictions[\"Predictions\"])"
   ]
  },
  {
   "cell_type": "markdown",
   "metadata": {},
   "source": [
    "As we can observe, by simply adding these parameters the accuracy of the model is not significantly modified.\n",
    "\n",
    "We will now try to make use of another indicator, called **Heikin Ashi's indicator**. "
   ]
  },
  {
   "cell_type": "code",
   "execution_count": 20,
   "metadata": {},
   "outputs": [],
   "source": [
    "ha_df = price_df[['Open', 'High', 'Low', 'Close']]\n",
    "ha_df['Date'] = range(ha_df.shape[0])\n",
    "ha_df = ha_df.loc[:,['Date', 'Open', 'High', 'Low', 'Close']]\n",
    "\n",
    "for i in range(ha_df.shape[0]):\n",
    "    if i > 0:\n",
    "        ha_df.loc[ha_df.index[i],'Open'] = (price_df['Open'][i-1] + price_df['Close'][i-1])/2\n",
    "    ha_df.loc[ha_df.index[i],'Close'] = (price_df['Open'][i] + price_df['Close'][i] + price_df['Low'][i] +  price_df['High'][i])/4\n",
    "    \n",
    "ha_df = ha_df.iloc[1:,:]"
   ]
  },
  {
   "cell_type": "code",
   "execution_count": 21,
   "metadata": {},
   "outputs": [],
   "source": [
    "from mpl_finance import candlestick_ohlc"
   ]
  },
  {
   "cell_type": "code",
   "execution_count": 22,
   "metadata": {},
   "outputs": [
    {
     "data": {
      "image/png": "[encoded data removed]",
      "text/plain": [
       "<Figure size 432x288 with 1 Axes>"
      ]
     },
     "metadata": {
      "needs_background": "light"
     },
     "output_type": "display_data"
    }
   ],
   "source": [
    "# Plot of the last 50 daiys using HA indicator\n",
    "fig, ax = plt.subplots()\n",
    "candlestick_ohlc(ax,ha_df.tail(50).values,width=0.6, colorup='green', colordown='red', alpha=0.8)\n",
    "fig.tight_layout()\n",
    "fig.show()"
   ]
  },
  {
   "cell_type": "code",
   "execution_count": 23,
   "metadata": {},
   "outputs": [],
   "source": [
    "data['HA Open'] = ha_df['Open']\n",
    "data['HA Close'] = ha_df['Close']"
   ]
  },
  {
   "cell_type": "code",
   "execution_count": 24,
   "metadata": {},
   "outputs": [
    {
     "data": {
      "text/plain": [
       "0.5466297322253001"
      ]
     },
     "execution_count": 24,
     "metadata": {},
     "output_type": "execute_result"
    }
   ],
   "source": [
    "full_predictors = predictors + ['MACD', 'Signal Line', 'HA Open', 'HA Close']\n",
    "predictions = backtest(data, RFC, full_predictors)\n",
    "precision_score(predictions[\"Target\"], predictions[\"Predictions\"])"
   ]
  },
  {
   "cell_type": "markdown",
   "metadata": {},
   "source": [
    "Once again the improvement in accuracy does not seem to be very significant. However, we observe how accuracy has gradually improved by increasing the number of indicators.\n",
    "\n",
    "## Conclusions\n",
    "\n",
    "The purpose of this project was to become familiar with Random Forest through the Scikit-learn library and with financial concepts such as MACD and HA indicators. As I expected, market movements are difficult to predict with simple machine learning models. However, considering the right information, we achieved an accuracy better than 50%.\n",
    "\n",
    "In future developments, it would be interesting to try to predict price movements with different models and considering indicators other than those closely related to prices and volumes. For example, we could consider other economic indicators (interest rates, economic news) or political indicators, prices of stocks in the same industry or of partner companies. "
   ]
  },
  {
   "cell_type": "code",
   "execution_count": 25,
   "metadata": {},
   "outputs": [],
   "source": [
    "sys.stderr = sys.__stderr__  # unsilence stderr"
   ]
  }
 ],
 "metadata": {
  "kernelspec": {
   "display_name": "Python 3",
   "language": "python",
   "name": "python3"
  },
  "language_info": {
   "codemirror_mode": {
    "name": "ipython",
    "version": 3
   },
   "file_extension": ".py",
   "mimetype": "text/x-python",
   "name": "python",
   "nbconvert_exporter": "python",
   "pygments_lexer": "ipython3",
   "version": "3.7.4"
  }
 },
 "nbformat": 4,
 "nbformat_minor": 2
}
